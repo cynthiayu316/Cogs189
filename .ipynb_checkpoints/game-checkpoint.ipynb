{
 "cells": [
  {
   "cell_type": "code",
   "execution_count": null,
   "metadata": {},
   "outputs": [],
   "source": [
    "#!/usr/bin/env python\n",
    "# coding: utf-8\n",
    "\n",
    "import mindwave, time\n",
    "from serial import Serial\n",
    "\n",
    "headset = mindwave.Headset('/dev/tty.MindWaveMobile-SerialPo','01710007800B')\n",
    "\n",
    "time.sleep(2)\n",
    "\n",
    "headset.connect()\n",
    "print(\"Connecting...\")"
   ]
  },
  {
   "cell_type": "code",
   "execution_count": null,
   "metadata": {},
   "outputs": [],
   "source": [
    "while headset.status == 'None':\n",
    "    time.sleep(0.5)\n",
    "    #print(headset.status)\n",
    "    if headset.status == 'standby':\n",
    "        headset.connect()\n",
    "        print (\"Retrying connect...\")\n",
    "print(\"Connected.\")\n",
    "\n",
    "while True:\n",
    "    print(\"Attention: %s, Meditation: %s\" % (headset.attention, headset.meditation))\n"
   ]
  },
  {
   "cell_type": "code",
   "execution_count": null,
   "metadata": {},
   "outputs": [],
   "source": [
    "get_ipython().magic(u'pinfo headset')"
   ]
  },
  {
   "cell_type": "code",
   "execution_count": null,
   "metadata": {},
   "outputs": [],
   "source": []
  }
 ],
 "metadata": {
  "kernelspec": {
   "display_name": "Python 2",
   "language": "python",
   "name": "python2"
  },
  "language_info": {
   "codemirror_mode": {
    "name": "ipython",
    "version": 2
   },
   "file_extension": ".py",
   "mimetype": "text/x-python",
   "name": "python",
   "nbconvert_exporter": "python",
   "pygments_lexer": "ipython2",
   "version": "2.7.17"
  }
 },
 "nbformat": 4,
 "nbformat_minor": 2
}
