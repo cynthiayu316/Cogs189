{
 "cells": [
  {
   "cell_type": "code",
   "execution_count": null,
   "metadata": {},
   "outputs": [],
   "source": [
    "import csv\n",
    "import numpy as np\n",
    "import matplotlib.pyplot as plt\n",
    "\n",
    "#change file name and load into an array\n",
    "with open('/Users/jl/Cogs189/inverted_eyelessface_train4') as csvDataFile:\n",
    "    csvReader = csv.reader(csvDataFile)\n",
    "    for data in csvReader:\n",
    "        print(data)\n",
    "\n",
    "print(len(data))"
   ]
  },
  {
   "cell_type": "code",
   "execution_count": null,
   "metadata": {},
   "outputs": [],
   "source": [
    "#delete first 10 element\n",
    "del data[0:10]\n",
    "print(len(data))\n",
    "#delete last 10 element\n",
    "del data[-11:-1]\n",
    "print(len(data))\n",
    "print(data)"
   ]
  },
  {
   "cell_type": "code",
   "execution_count": null,
   "metadata": {},
   "outputs": [],
   "source": [
    "#calculate the stats\n",
    "num_data = np.array(data).astype(np.float)\n",
    "print(\"mean:\",np.mean(num_data))\n",
    "icon_train1_mean = np.mean(num_data) \n",
    "print(\"std:\",np.std(num_data))\n",
    "icon_train1_std = np.std(num_data)\n",
    "print(\"var:\",np.var(num_data))\n",
    "icon_train1_var = np.var(num_data)"
   ]
  },
  {
   "cell_type": "code",
   "execution_count": null,
   "metadata": {},
   "outputs": [],
   "source": [
    "# print 68% normal distribution\n",
    "low_range = icon_train1_mean-icon_train1_std\n",
    "high_range = icon_train1_mean+icon_train1_std\n",
    "print(\"mean - std.dev: \", low_range)\n",
    "print(\"mean + std.dev: \", high_range)\n",
    "max_num = max(num_data)\n",
    "min_num = min(num_data)\n",
    "print(\"min:\", min_num)\n",
    "print(\"max:\", max_num)"
   ]
  },
  {
   "cell_type": "code",
   "execution_count": 5,
   "metadata": {},
   "outputs": [],
   "source": [
    "from csv import writer\n",
    "\n",
    "def append_list_as_row(file_name, list_of_elem):\n",
    "    # Open file in append mode\n",
    "    with open('test.csv', 'a+', newline='') as write_obj:\n",
    "        # Create a writer object from csv module\n",
    "        csv_writer = writer(write_obj)\n",
    "        # Add contents of list as last row in the csv file\n",
    "        csv_writer.writerow(list_of_elem)\n",
    "\n",
    "# List of content\n",
    "row_contents = [\"inverted_eyeless_face_train_4\",icon_train1_mean,icon_train1_std ,icon_train1_var,\n",
    "                low_range,high_range,min_num,max_num]\n",
    " \n",
    "# Append a list as new line to an old csv file\n",
    "append_list_as_row('test.csv',row_contents)\n"
   ]
  },
  {
   "cell_type": "code",
   "execution_count": null,
   "metadata": {},
   "outputs": [],
   "source": []
  }
 ],
 "metadata": {
  "kernelspec": {
   "display_name": "Python 3",
   "language": "python",
   "name": "python3"
  },
  "language_info": {
   "codemirror_mode": {
    "name": "ipython",
    "version": 3
   },
   "file_extension": ".py",
   "mimetype": "text/x-python",
   "name": "python",
   "nbconvert_exporter": "python",
   "pygments_lexer": "ipython3",
   "version": "3.7.3"
  }
 },
 "nbformat": 4,
 "nbformat_minor": 2
}
