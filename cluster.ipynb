{
 "cells": [
  {
   "cell_type": "code",
   "execution_count": 3,
   "metadata": {},
   "outputs": [],
   "source": [
    "from sklearn.cluster import KMeans\n",
    "import numpy as np"
   ]
  },
  {
   "cell_type": "code",
   "execution_count": 1,
   "metadata": {},
   "outputs": [],
   "source": [
    "with open('./output.txt') as f:\n",
    "    content=f.readlines()\n",
    "content=[ele.strip('\\n') for ele in content]\n",
    "content=[float(ele) for ele in content]"
   ]
  },
  {
   "cell_type": "code",
   "execution_count": 8,
   "metadata": {},
   "outputs": [
    {
     "data": {
      "text/plain": [
       "array([[49.41878669],\n",
       "       [41.55605381],\n",
       "       [32.77426901],\n",
       "       [37.64988558],\n",
       "       [44.88105727],\n",
       "       [37.74853801],\n",
       "       [26.96889952],\n",
       "       [36.7256439 ],\n",
       "       [44.92959427],\n",
       "       [51.9805492 ],\n",
       "       [24.75482094],\n",
       "       [34.00114416],\n",
       "       [41.09637046],\n",
       "       [56.78755869],\n",
       "       [47.67697595],\n",
       "       [44.46072685],\n",
       "       [38.63625731],\n",
       "       [29.64573991],\n",
       "       [27.9027933 ],\n",
       "       [44.75029172]])"
      ]
     },
     "execution_count": 8,
     "metadata": {},
     "output_type": "execute_result"
    }
   ],
   "source": [
    "data=np.array(content).reshape(-1,1)\n",
    "data"
   ]
  },
  {
   "cell_type": "code",
   "execution_count": 11,
   "metadata": {},
   "outputs": [
    {
     "data": {
      "text/plain": [
       "KMeans(algorithm='auto', copy_x=True, init='k-means++', max_iter=300,\n",
       "    n_clusters=4, n_init=10, n_jobs=None, precompute_distances='auto',\n",
       "    random_state=None, tol=0.0001, verbose=0)"
      ]
     },
     "execution_count": 11,
     "metadata": {},
     "output_type": "execute_result"
    }
   ],
   "source": [
    "km=KMeans(n_clusters=4)\n",
    "km.fit(data)"
   ]
  },
  {
   "cell_type": "code",
   "execution_count": 12,
   "metadata": {},
   "outputs": [
    {
     "data": {
      "text/plain": [
       "array([[44.19301005],\n",
       "       [27.31806342],\n",
       "       [52.72896486],\n",
       "       [36.25595633]])"
      ]
     },
     "execution_count": 12,
     "metadata": {},
     "output_type": "execute_result"
    }
   ],
   "source": [
    "km.cluster_centers_"
   ]
  },
  {
   "cell_type": "code",
   "execution_count": null,
   "metadata": {},
   "outputs": [],
   "source": []
  }
 ],
 "metadata": {
  "kernelspec": {
   "display_name": "Python 3",
   "language": "python",
   "name": "python3"
  },
  "language_info": {
   "codemirror_mode": {
    "name": "ipython",
    "version": 3
   },
   "file_extension": ".py",
   "mimetype": "text/x-python",
   "name": "python",
   "nbconvert_exporter": "python",
   "pygments_lexer": "ipython3",
   "version": "3.7.1"
  }
 },
 "nbformat": 4,
 "nbformat_minor": 2
}
