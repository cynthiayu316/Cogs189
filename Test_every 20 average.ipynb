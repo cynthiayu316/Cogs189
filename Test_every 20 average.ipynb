{
 "cells": [
  {
   "cell_type": "code",
   "execution_count": null,
   "metadata": {},
   "outputs": [],
   "source": [
    "import mindwave, time\n",
    "from serial import Serial\n",
    "import csv\n",
    "from statistics import mean\n",
    "\n",
    "## Connecting the Neurosky headset\n",
    "headset = mindwave.Headset('/dev/tty.MindWaveMobile-SerialPo','01710007800B')\n",
    "\n",
    "time.sleep(2)\n",
    "\n",
    "headset.autoconnect()\n",
    "print(\"Connecting...\")\n",
    "\n",
    "## Reading attention data from the headset\n",
    "atten_list = []\n",
    "\n",
    "while True:\n",
    "    time.sleep(0.05)\n",
    "    print(headset.status)\n",
    "    if headset.status == 'standby':\n",
    "        headset.connect()\n",
    "        print (\"Retrying connect...\")\n",
    "        \n",
    "    print(\"Connected.\")\n",
    "    \n",
    "    if headset.status == None:\n",
    "        print(\"Attention: %s, Meditation: %s\" % (headset.attention, headset.meditation))\n",
    "        atten_list.append(headset.attention)\n",
    "    print(atten_list)"
   ]
  },
  {
   "cell_type": "code",
   "execution_count": null,
   "metadata": {},
   "outputs": [],
   "source": [
    "## Average very 20 data"
   ]
  }
 ],
 "metadata": {
  "kernelspec": {
   "display_name": "Python 2",
   "language": "python",
   "name": "python2"
  },
  "language_info": {
   "codemirror_mode": {
    "name": "ipython",
    "version": 2
   },
   "file_extension": ".py",
   "mimetype": "text/x-python",
   "name": "python",
   "nbconvert_exporter": "python",
   "pygments_lexer": "ipython2",
   "version": "2.7.17"
  }
 },
 "nbformat": 4,
 "nbformat_minor": 2
}
