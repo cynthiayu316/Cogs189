{
 "cells": [
  {
   "cell_type": "code",
   "execution_count": 3,
   "metadata": {},
   "outputs": [
    {
     "name": "stdout",
     "output_type": "stream",
     "text": [
      "Current Tag: 2.0\n",
      "Current Tag: 1.0\n",
      "Current Tag: 2.0\n",
      "Current Tag: 1.0\n",
      "Current Tag: 1.0\n",
      "Current Tag: 1.0\n",
      "Current Tag: 1.0\n",
      "Current Tag: 3.0\n",
      "Current Tag: 4.0\n",
      "Current Tag: 1.0\n"
     ]
    }
   ],
   "source": [
    "import pickle\n",
    "import numpy as np\n",
    "\n",
    "with open('/Users/yubinghong/Desktop/Cogs189/data_analysis_for_ml/svm.pkl', 'rb') as fid:\n",
    "    svm_classifier = pickle.load(fid)\n",
    "\n",
    "counter,num_iter=(0,10)\n",
    "while(counter<num_iter):\n",
    "    attention,medidation=np.random.randint(low=0,high=100,size=2)\n",
    "    data=[[attention,medidation]]\n",
    "    tag=svm_classifier.predict(data)[0]\n",
    "    print(\"Current Tag: {}\".format(str(tag)))\n",
    "    counter+=1"
   ]
  },
  {
   "cell_type": "code",
   "execution_count": null,
   "metadata": {},
   "outputs": [],
   "source": []
  }
 ],
 "metadata": {
  "kernelspec": {
   "display_name": "Python 3",
   "language": "python",
   "name": "python3"
  },
  "language_info": {
   "codemirror_mode": {
    "name": "ipython",
    "version": 3
   },
   "file_extension": ".py",
   "mimetype": "text/x-python",
   "name": "python",
   "nbconvert_exporter": "python",
   "pygments_lexer": "ipython3",
   "version": "3.7.3"
  }
 },
 "nbformat": 4,
 "nbformat_minor": 2
}
