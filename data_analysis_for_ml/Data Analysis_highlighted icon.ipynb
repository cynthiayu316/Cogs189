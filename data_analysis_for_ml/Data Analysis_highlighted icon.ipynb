{
 "cells": [
  {
   "cell_type": "code",
   "execution_count": 7,
   "metadata": {},
   "outputs": [],
   "source": [
    "import pandas as pd"
   ]
  },
  {
   "cell_type": "code",
   "execution_count": 38,
   "metadata": {},
   "outputs": [],
   "source": [
    "# read different data trials (5 trials in total)\n",
    "def read_data(root):\n",
    "    data=[]\n",
    "    for i in range(1,6): # from train1 to train5\n",
    "        cur_file=root+str(i)\n",
    "        print(cur_file)\n",
    "        with open(cur_file) as f:\n",
    "            csvReader=csv.reader(f)\n",
    "            for d in csvReader:\n",
    "                data.append(d)\n",
    "    return data\n",
    "\n",
    "# clean preceding same data and successing same data \n",
    "def remove_preceding_and_successing(data):\n",
    "    first_element=data[0]\n",
    "    pre_counter=0\n",
    "    for i in range(len(data)):\n",
    "        if(data[i]!=first_element):\n",
    "            pre_counter=i\n",
    "            break\n",
    "    i = len(data)-1\n",
    "    last_element=data[len(data)-1]\n",
    "    last_counter=-1\n",
    "    while(i>0): \n",
    "        cur_element=data[i]\n",
    "        if(cur_element!=last_element):\n",
    "            last_counter=i\n",
    "            break\n",
    "        i-=1\n",
    "    return data[pre_counter:last_counter]#only save the expt data in between\n",
    "\n",
    "#save the clean data into lists\n",
    "def clean_data(data_list):\n",
    "    output=[]\n",
    "    for i in range(len(data_list)):\n",
    "        cur_data=data_list[i]\n",
    "        cur_data=remove_preceding_and_successing(cur_data)\n",
    "        output.append(cur_data)\n",
    "    return output\n",
    "\n",
    "def main(root):\n",
    "    data_list=read_data(root)\n",
    "    data_list=clean_data(data_list)\n",
    "    return data_list\n",
    "\n",
    "#convert every element in lists from string to float\n",
    "def convert_to_float(data_list):\n",
    "    for i in range(5): \n",
    "        data_list[i] = np.array(data_list[i]).astype(np.float)"
   ]
  },
  {
   "cell_type": "code",
   "execution_count": 39,
   "metadata": {},
   "outputs": [
    {
     "name": "stdout",
     "output_type": "stream",
     "text": [
      "/Users/katherinequan/Documents/GitHub/Cogs189/highlighted_icon_train1\n",
      "/Users/katherinequan/Documents/GitHub/Cogs189/highlighted_icon_train2\n",
      "/Users/katherinequan/Documents/GitHub/Cogs189/highlighted_icon_train3\n",
      "/Users/katherinequan/Documents/GitHub/Cogs189/highlighted_icon_train4\n",
      "/Users/katherinequan/Documents/GitHub/Cogs189/highlighted_icon_train5\n"
     ]
    }
   ],
   "source": [
    "import csv\n",
    "import numpy as np\n",
    "import matplotlib.pyplot as plt\n",
    "# root\n",
    "\n",
    "data=[] # list of lists\n",
    "root = '/Users/katherinequan/Documents/GitHub/Cogs189/highlighted_icon_train'\n",
    "for i in range(1,6):\n",
    "    cur_file=root+str(i)\n",
    "    print(cur_file)\n",
    "    with open(cur_file) as f:\n",
    "        csvReader=csv.reader(f)\n",
    "        for d in csvReader:\n",
    "            data.append(d)\n"
   ]
  },
  {
   "cell_type": "code",
   "execution_count": 40,
   "metadata": {},
   "outputs": [
    {
     "name": "stdout",
     "output_type": "stream",
     "text": [
      "/Users/katherinequan/Documents/GitHub/Cogs189/highlighted_icon_train1\n",
      "/Users/katherinequan/Documents/GitHub/Cogs189/highlighted_icon_train2\n",
      "/Users/katherinequan/Documents/GitHub/Cogs189/highlighted_icon_train3\n",
      "/Users/katherinequan/Documents/GitHub/Cogs189/highlighted_icon_train4\n",
      "/Users/katherinequan/Documents/GitHub/Cogs189/highlighted_icon_train5\n"
     ]
    }
   ],
   "source": [
    "data_list = main(root)"
   ]
  },
  {
   "cell_type": "code",
   "execution_count": 87,
   "metadata": {},
   "outputs": [],
   "source": [
    "#convert from string to float\n",
    "convert_to_float(data_list)\n",
    "#print(data_list)"
   ]
  },
  {
   "cell_type": "code",
   "execution_count": 88,
   "metadata": {},
   "outputs": [],
   "source": [
    "#create dataframe to get avg of 20 data per sec\n",
    "def sliding_windows_mean(data_list):\n",
    "    df = pd.DataFrame(data_list) \n",
    "    #df.rename(columns=\"X\")\n",
    "    #df = df.rolling(10).mean()\n",
    "    df = df[19::20] \n",
    "#     test_list = df[0]\n",
    "#     print(test_list)\n",
    "    #mean_list = df.tolist()\n",
    "    return df"
   ]
  },
  {
   "cell_type": "code",
   "execution_count": 89,
   "metadata": {},
   "outputs": [],
   "source": [
    "def calc_mean(data_list):\n",
    "    print(\"mean:\",np.mean(data_list))\n",
    "    return np.mean(data_list) \n",
    "    \n",
    "def calc_std(data_list):\n",
    "    print(\"std:\",np.std(data_list))\n",
    "    return np.std(data_list)\n",
    "    \n",
    "def calc_var(data_list):\n",
    "    print(\"var:\",np.var(data_list))\n",
    "    return np.var(data_list)\n",
    "    \n",
    "def max_data(data_list):\n",
    "    print(\"max:\", max(data_list))\n",
    "    return max(data_list)\n",
    "\n",
    "def min_data(data_list):\n",
    "    print(\"min:\", min(data_list))\n",
    "    return min(data_list)"
   ]
  },
  {
   "cell_type": "code",
   "execution_count": 90,
   "metadata": {},
   "outputs": [
    {
     "name": "stdout",
     "output_type": "stream",
     "text": [
      "mean: 49.4187866927593\n",
      "std: 14.663103825318615\n",
      "var: 215.0066137920734\n"
     ]
    },
    {
     "data": {
      "text/plain": [
       "215.0066137920734"
      ]
     },
     "execution_count": 90,
     "metadata": {},
     "output_type": "execute_result"
    }
   ],
   "source": [
    "# calc_mean(data_list[0])\n",
    "# calc_std(data_list[0])\n",
    "# calc_var(data_list[0])"
   ]
  },
  {
   "cell_type": "code",
   "execution_count": 165,
   "metadata": {},
   "outputs": [],
   "source": [
    "def get_df_colname(df):\n",
    "    for col in object_df.columns: \n",
    "        colname = col\n",
    "    return colname\n",
    "\n",
    "# transform df into list\n",
    "def df_tolist(df):\n",
    "    col_name = get_df_colname(df)\n",
    "    new_list = df[col_name].tolist()\n",
    "    return new_list"
   ]
  },
  {
   "cell_type": "code",
   "execution_count": 169,
   "metadata": {},
   "outputs": [
    {
     "data": {
      "text/plain": [
       "(225, 1)"
      ]
     },
     "execution_count": 169,
     "metadata": {},
     "output_type": "execute_result"
    }
   ],
   "source": [
    "#save all 5 trials sample means(avg of 20data/sec)\n",
    "old_df = sliding_windows_mean(data_list[0])\n",
    "#old_df.shape\n",
    "for i in range(1,5):\n",
    "    #print(data_list[i])\n",
    "    new_df = sliding_windows_mean(data_list[i])\n",
    "    #print(new_df)\n",
    "    old_df = pd.concat([old_df, new_df])\n",
    "\n",
    "old_df.shape#that is the final dataframe we get"
   ]
  },
  {
   "cell_type": "code",
   "execution_count": 170,
   "metadata": {},
   "outputs": [
    {
     "name": "stdout",
     "output_type": "stream",
     "text": [
      "(225, 1)\n",
      "225\n"
     ]
    }
   ],
   "source": [
    "#calling the methods to get all 5 trials mean data\n",
    "print(old_df.shape)\n",
    "object_list = df_tolist(old_df)#that is the final list we get for future data processing\n",
    "print(len(object_list))# this object label has this many data pts that are used for future machine learning.\n",
    "#object_df.shape"
   ]
  },
  {
   "cell_type": "code",
   "execution_count": 171,
   "metadata": {},
   "outputs": [],
   "source": [
    "# a method to save the sliding datas into a txt file named output_after_sliding.txt\n",
    "# 'w+' => rewrite\n",
    "# 'a+' => append\n",
    "def data_to_new_file(dataframe):\n",
    "    with open('output_after_sliding.txt','w+') as f:\n",
    "        f.write('highlighted icon'+'\\n')\n",
    "        f.write(str(object_list)+'\\n')"
   ]
  },
  {
   "cell_type": "code",
   "execution_count": 172,
   "metadata": {},
   "outputs": [],
   "source": [
    "data_to_new_file(old_df)"
   ]
  },
  {
   "cell_type": "code",
   "execution_count": 94,
   "metadata": {},
   "outputs": [],
   "source": [
    "# a method that saves the original average data per trial into a txt file named output.txt\n",
    "# one mean, std, var, max, min per trial.\n",
    "# 5 trials in total\n",
    "# currently no need \n",
    "def get_stats(data_list):\n",
    "    with open('output.txt','w+') as f:\n",
    "        for i in range(5):\n",
    "            print(\"data_list\" + str(i+1) + \": \")\n",
    "            mean=calc_mean(data_list[i])\n",
    "            std=calc_std(data_list[i])\n",
    "            var=calc_var(data_list[i])\n",
    "            max_=max_data(data_list[i])\n",
    "            min_=min_data(data_list[i])\n",
    "#             output=[mean,std,var,max_,min_]\n",
    "#             output=''.join(str(output))+'\\n'\n",
    "#             print(output)\n",
    "           \n",
    "            \n",
    "            f.write(str(mean)+'\\n')"
   ]
  },
  {
   "cell_type": "code",
   "execution_count": 127,
   "metadata": {},
   "outputs": [],
   "source": [
    "# currently no need\n",
    "#output = get_stats(str(data_list))"
   ]
  },
  {
   "cell_type": "code",
   "execution_count": null,
   "metadata": {},
   "outputs": [],
   "source": []
  }
 ],
 "metadata": {
  "kernelspec": {
   "display_name": "Python 3",
   "language": "python",
   "name": "python3"
  },
  "language_info": {
   "codemirror_mode": {
    "name": "ipython",
    "version": 3
   },
   "file_extension": ".py",
   "mimetype": "text/x-python",
   "name": "python",
   "nbconvert_exporter": "python",
   "pygments_lexer": "ipython3",
   "version": "3.7.3"
  }
 },
 "nbformat": 4,
 "nbformat_minor": 2
}
