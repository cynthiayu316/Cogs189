{
 "cells": [
  {
   "cell_type": "code",
   "execution_count": 51,
   "metadata": {},
   "outputs": [],
   "source": [
    "# read different data trials\n",
    "def read_data(root):\n",
    "    data=[]\n",
    "    for i in range(1,6): # from train1 to train5\n",
    "        cur_file=root+str(i)\n",
    "        print(cur_file)\n",
    "        with open(cur_file) as f:\n",
    "            csvReader=csv.reader(f)\n",
    "            for d in csvReader:\n",
    "                data.append(d)\n",
    "    return data\n",
    "\n",
    "# clean preceding same data and successing same data \n",
    "def remove_preceding_and_successing(data):\n",
    "    first_element=data[0]\n",
    "    pre_counter=0\n",
    "    for i in range(len(data)):\n",
    "        if(data[i]!=first_element):\n",
    "            pre_counter=i\n",
    "            break\n",
    "    i = len(data)-1\n",
    "    last_element=data[len(data)-1]\n",
    "    last_counter=-1\n",
    "    while(i>0):\n",
    "        cur_element=data[i]\n",
    "        if(cur_element!=last_element):\n",
    "            last_counter=i\n",
    "            break\n",
    "        i-=1\n",
    "    return data[pre_counter:last_counter]#only save the expt data in between\n",
    "\n",
    "#save the clean data into lists\n",
    "def clean_data(data_list):\n",
    "    output=[]\n",
    "    for i in range(len(data_list)):\n",
    "        cur_data=data_list[i]\n",
    "        cur_data=remove_preceding_and_successing(cur_data)\n",
    "        output.append(cur_data)\n",
    "    return output\n",
    "\n",
    "def main(root):\n",
    "    data_list=read_data(root)\n",
    "    data_list=clean_data(data_list)\n",
    "    return data_list\n",
    "\n",
    "#convert every element in lists from string to float\n",
    "def convert_to_float(data_list):\n",
    "    for i in range(5): \n",
    "        data_list[i] = np.array(data_list[i]).astype(np.float)"
   ]
  },
  {
   "cell_type": "code",
   "execution_count": 76,
   "metadata": {},
   "outputs": [
    {
     "name": "stdout",
     "output_type": "stream",
     "text": [
      "/Users/katherinequan/Documents/GitHub/Cogs189/highlighted_icon_train1\n",
      "/Users/katherinequan/Documents/GitHub/Cogs189/highlighted_icon_train2\n",
      "/Users/katherinequan/Documents/GitHub/Cogs189/highlighted_icon_train3\n",
      "/Users/katherinequan/Documents/GitHub/Cogs189/highlighted_icon_train4\n",
      "/Users/katherinequan/Documents/GitHub/Cogs189/highlighted_icon_train5\n"
     ]
    }
   ],
   "source": [
    "data_list = main(root)"
   ]
  },
  {
   "cell_type": "code",
   "execution_count": 80,
   "metadata": {},
   "outputs": [],
   "source": [
    "convert_to_float(data_list)"
   ]
  },
  {
   "cell_type": "code",
   "execution_count": 81,
   "metadata": {},
   "outputs": [
    {
     "name": "stdout",
     "output_type": "stream",
     "text": [
      "/Users/katherinequan/Documents/GitHub/Cogs189/highlighted_icon_train1\n",
      "/Users/katherinequan/Documents/GitHub/Cogs189/highlighted_icon_train2\n",
      "/Users/katherinequan/Documents/GitHub/Cogs189/highlighted_icon_train3\n",
      "/Users/katherinequan/Documents/GitHub/Cogs189/highlighted_icon_train4\n",
      "/Users/katherinequan/Documents/GitHub/Cogs189/highlighted_icon_train5\n"
     ]
    }
   ],
   "source": [
    "import csv\n",
    "import numpy as np\n",
    "import matplotlib.pyplot as plt\n",
    "# root\n",
    "\n",
    "data=[] # list of lists\n",
    "root = '/Users/katherinequan/Documents/GitHub/Cogs189/highlighted_icon_train'\n",
    "for i in range(1,6):\n",
    "    cur_file=root+str(i)\n",
    "    print(cur_file)\n",
    "    with open(cur_file) as f:\n",
    "        csvReader=csv.reader(f)\n",
    "        for d in csvReader:\n",
    "            data.append(d)\n"
   ]
  },
  {
   "cell_type": "code",
   "execution_count": 82,
   "metadata": {},
   "outputs": [],
   "source": [
    "def calc_mean(data_list):\n",
    "    print(\"mean:\",np.mean(data_list))\n",
    "    return np.mean(data_list) \n",
    "    \n",
    "def calc_std(data_list):\n",
    "    print(\"std:\",np.std(data_list))\n",
    "    return np.std(data_list)\n",
    "    \n",
    "def calc_var(data_list):\n",
    "    print(\"var:\",np.var(data_list))\n",
    "    return np.var(data_list)\n",
    "    \n",
    "def max_data(data_list):\n",
    "    print(\"max:\", max(data_list))\n",
    "    return max(data_list)\n",
    "\n",
    "def min_data(data_list):\n",
    "    print(\"min:\", min(data_list))\n",
    "    return min(data_list)"
   ]
  },
  {
   "cell_type": "code",
   "execution_count": 83,
   "metadata": {},
   "outputs": [
    {
     "name": "stdout",
     "output_type": "stream",
     "text": [
      "mean: 49.4187866927593\n",
      "std: 14.663103825318615\n",
      "var: 215.0066137920734\n"
     ]
    },
    {
     "data": {
      "text/plain": [
       "215.0066137920734"
      ]
     },
     "execution_count": 83,
     "metadata": {},
     "output_type": "execute_result"
    }
   ],
   "source": [
    "calc_mean(data_list[0])\n",
    "calc_std(data_list[0])\n",
    "calc_var(data_list[0])"
   ]
  },
  {
   "cell_type": "code",
   "execution_count": 88,
   "metadata": {},
   "outputs": [],
   "source": [
    "def get_stats(data_list):\n",
    "    with open('output.txt','w+') as f:\n",
    "        for i in range(5):\n",
    "            print(\"data_list\" + str(i+1) + \": \")\n",
    "            mean=calc_mean(data_list[i])\n",
    "            std=calc_std(data_list[i])\n",
    "            var=calc_var(data_list[i])\n",
    "            max_=max_data(data_list[i])\n",
    "            min_=min_data(data_list[i])\n",
    "#             output=[mean,std,var,max_,min_]\n",
    "#             output=''.join(str(output))+'\\n'\n",
    "#             print(output)\n",
    "            \n",
    "            f.write(str(mean)+'\\n')"
   ]
  },
  {
   "cell_type": "code",
   "execution_count": 89,
   "metadata": {},
   "outputs": [
    {
     "name": "stdout",
     "output_type": "stream",
     "text": [
      "data_list1: \n",
      "mean: 49.4187866927593\n",
      "std: 14.663103825318615\n",
      "var: 215.0066137920734\n",
      "max: 81.0\n",
      "min: 21.0\n",
      "data_list2: \n",
      "mean: 41.55605381165919\n",
      "std: 15.418242256919834\n",
      "var: 237.72219429306844\n",
      "max: 69.0\n",
      "min: 10.0\n",
      "data_list3: \n",
      "mean: 32.774269005847955\n",
      "std: 11.836578942998466\n",
      "var: 140.1046010738347\n",
      "max: 61.0\n",
      "min: 13.0\n",
      "data_list4: \n",
      "mean: 37.649885583524025\n",
      "std: 14.926090413906687\n",
      "var: 222.7881750441171\n",
      "max: 64.0\n",
      "min: 7.0\n",
      "data_list5: \n",
      "mean: 44.881057268722465\n",
      "std: 14.823229856396848\n",
      "var: 219.72814337557492\n",
      "max: 93.0\n",
      "min: 17.0\n"
     ]
    }
   ],
   "source": [
    "output = get_stats(data_list)"
   ]
  },
  {
   "cell_type": "code",
   "execution_count": null,
   "metadata": {},
   "outputs": [],
   "source": []
  }
 ],
 "metadata": {
  "kernelspec": {
   "display_name": "Python 3",
   "language": "python",
   "name": "python3"
  },
  "language_info": {
   "codemirror_mode": {
    "name": "ipython",
    "version": 3
   },
   "file_extension": ".py",
   "mimetype": "text/x-python",
   "name": "python",
   "nbconvert_exporter": "python",
   "pygments_lexer": "ipython3",
   "version": "3.7.3"
  }
 },
 "nbformat": 4,
 "nbformat_minor": 2
}
