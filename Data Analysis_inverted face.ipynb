{
 "cells": [
  {
   "cell_type": "code",
   "execution_count": 2,
   "metadata": {},
   "outputs": [],
   "source": [
    "# read different data trials\n",
    "def read_data(root):\n",
    "    data=[]\n",
    "    for i in range(1,6): # from train1 to train5\n",
    "        cur_file=root+str(i)\n",
    "        print(cur_file)\n",
    "        with open(cur_file) as f:\n",
    "            csvReader=csv.reader(f)\n",
    "            for d in csvReader:\n",
    "                data.append(d)\n",
    "    return data\n",
    "\n",
    "# clean preceding same data and successing same data \n",
    "def remove_preceding_and_successing(data):\n",
    "    first_element=data[0]\n",
    "    pre_counter=0\n",
    "    for i in range(len(data)):\n",
    "        if(data[i]!=first_element):\n",
    "            pre_counter=i\n",
    "            break\n",
    "    i = len(data)-1\n",
    "    last_element=data[len(data)-1]\n",
    "    last_counter=-1\n",
    "    while(i>0):\n",
    "        cur_element=data[i]\n",
    "        if(cur_element!=last_element):\n",
    "            last_counter=i\n",
    "            break\n",
    "        i-=1\n",
    "    return data[pre_counter:last_counter]#only save the expt data in between\n",
    "\n",
    "#save the clean data into lists\n",
    "def clean_data(data_list):\n",
    "    output=[]\n",
    "    for i in range(len(data_list)):\n",
    "        cur_data=data_list[i]\n",
    "        cur_data=remove_preceding_and_successing(cur_data)\n",
    "        output.append(cur_data)\n",
    "    return output\n",
    "\n",
    "def main(root):\n",
    "    data_list=read_data(root)\n",
    "    data_list=clean_data(data_list)\n",
    "    return data_list\n",
    "\n",
    "#convert every element in lists from string to float\n",
    "def convert_to_float(data_list):\n",
    "    for i in range(5): \n",
    "        data_list[i] = np.array(data_list[i]).astype(np.float)"
   ]
  },
  {
   "cell_type": "code",
   "execution_count": 3,
   "metadata": {},
   "outputs": [
    {
     "name": "stdout",
     "output_type": "stream",
     "text": [
      "/Users/katherinequan/Documents/GitHub/Cogs189/inverted_face_train1\n",
      "/Users/katherinequan/Documents/GitHub/Cogs189/inverted_face_train2\n",
      "/Users/katherinequan/Documents/GitHub/Cogs189/inverted_face_train3\n",
      "/Users/katherinequan/Documents/GitHub/Cogs189/inverted_face_train4\n",
      "/Users/katherinequan/Documents/GitHub/Cogs189/inverted_face_train5\n"
     ]
    }
   ],
   "source": [
    "data_list = main(root)"
   ]
  },
  {
   "cell_type": "code",
   "execution_count": 4,
   "metadata": {},
   "outputs": [],
   "source": [
    "convert_to_float(data_list)"
   ]
  },
  {
   "cell_type": "code",
   "execution_count": 5,
   "metadata": {},
   "outputs": [
    {
     "name": "stdout",
     "output_type": "stream",
     "text": [
      "/Users/katherinequan/Documents/GitHub/Cogs189/inverted_face_train1\n",
      "/Users/katherinequan/Documents/GitHub/Cogs189/inverted_face_train2\n",
      "/Users/katherinequan/Documents/GitHub/Cogs189/inverted_face_train3\n",
      "/Users/katherinequan/Documents/GitHub/Cogs189/inverted_face_train4\n",
      "/Users/katherinequan/Documents/GitHub/Cogs189/inverted_face_train5\n"
     ]
    }
   ],
   "source": [
    "import csv\n",
    "import numpy as np\n",
    "import matplotlib.pyplot as plt\n",
    "# root\n",
    "\n",
    "data=[] # list of lists\n",
    "root = '/Users/katherinequan/Documents/GitHub/Cogs189/inverted_face_train'\n",
    "for i in range(1,6):\n",
    "    cur_file=root+str(i)\n",
    "    print(cur_file)\n",
    "    with open(cur_file) as f:\n",
    "        csvReader=csv.reader(f)\n",
    "        for d in csvReader:\n",
    "            data.append(d)\n"
   ]
  },
  {
   "cell_type": "code",
   "execution_count": 6,
   "metadata": {},
   "outputs": [],
   "source": [
    "def calc_mean(data_list):\n",
    "    print(\"mean:\",np.mean(data_list))\n",
    "    return np.mean(data_list) \n",
    "    \n",
    "def calc_std(data_list):\n",
    "    print(\"std:\",np.std(data_list))\n",
    "    return np.std(data_list)\n",
    "    \n",
    "def calc_var(data_list):\n",
    "    print(\"var:\",np.var(data_list))\n",
    "    return np.var(data_list)\n",
    "    \n",
    "def max_data(data_list):\n",
    "    print(\"max:\", max(data_list))\n",
    "    return max(data_list)\n",
    "\n",
    "def min_data(data_list):\n",
    "    print(\"min:\", min(data_list))\n",
    "    return min(data_list)"
   ]
  },
  {
   "cell_type": "code",
   "execution_count": 7,
   "metadata": {},
   "outputs": [
    {
     "name": "stdout",
     "output_type": "stream",
     "text": [
      "mean: 44.460726846424386\n",
      "std: 19.02931453478966\n",
      "var: 362.1148116639569\n"
     ]
    },
    {
     "data": {
      "text/plain": [
       "362.1148116639569"
      ]
     },
     "execution_count": 7,
     "metadata": {},
     "output_type": "execute_result"
    }
   ],
   "source": [
    "calc_mean(data_list[0])\n",
    "calc_std(data_list[0])\n",
    "calc_var(data_list[0])"
   ]
  },
  {
   "cell_type": "code",
   "execution_count": 13,
   "metadata": {},
   "outputs": [],
   "source": [
    "def get_stats(data_list):\n",
    "    with open('output.txt','a+') as f:\n",
    "        for i in range(5):\n",
    "            print(\"data_list\" + str(i+1) + \": \")\n",
    "            mean=calc_mean(data_list[i])\n",
    "            std=calc_std(data_list[i])\n",
    "            var=calc_var(data_list[i])\n",
    "            max_=max_data(data_list[i])\n",
    "            min_=min_data(data_list[i])\n",
    "#             output=[mean,std,var,max_,min_]\n",
    "#             output=''.join(str(output))+'\\n'\n",
    "#             print(output)\n",
    "            \n",
    "            f.write(str(mean)+'\\n')"
   ]
  },
  {
   "cell_type": "code",
   "execution_count": 14,
   "metadata": {},
   "outputs": [
    {
     "name": "stdout",
     "output_type": "stream",
     "text": [
      "data_list1: \n",
      "mean: 44.460726846424386\n",
      "std: 19.02931453478966\n",
      "var: 362.1148116639569\n",
      "max: 93.0\n",
      "min: 13.0\n",
      "data_list2: \n",
      "mean: 38.63625730994152\n",
      "std: 9.86030354463143\n",
      "var: 97.22558599227114\n",
      "max: 61.0\n",
      "min: 14.0\n",
      "data_list3: \n",
      "mean: 29.6457399103139\n",
      "std: 12.110850757353198\n",
      "var: 146.6727060668825\n",
      "max: 60.0\n",
      "min: 10.0\n",
      "data_list4: \n",
      "mean: 27.902793296089385\n",
      "std: 12.845473650855206\n",
      "var: 165.0061933148154\n",
      "max: 56.0\n",
      "min: 1.0\n",
      "data_list5: \n",
      "mean: 44.75029171528588\n",
      "std: 13.570532391539201\n",
      "var: 184.15934938981465\n",
      "max: 77.0\n",
      "min: 17.0\n"
     ]
    }
   ],
   "source": [
    "output = get_stats(data_list)"
   ]
  },
  {
   "cell_type": "code",
   "execution_count": null,
   "metadata": {},
   "outputs": [],
   "source": []
  }
 ],
 "metadata": {
  "kernelspec": {
   "display_name": "Python 3",
   "language": "python",
   "name": "python3"
  },
  "language_info": {
   "codemirror_mode": {
    "name": "ipython",
    "version": 3
   },
   "file_extension": ".py",
   "mimetype": "text/x-python",
   "name": "python",
   "nbconvert_exporter": "python",
   "pygments_lexer": "ipython3",
   "version": "3.7.3"
  }
 },
 "nbformat": 4,
 "nbformat_minor": 2
}
