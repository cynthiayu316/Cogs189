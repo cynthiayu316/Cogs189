{
 "cells": [
  {
   "cell_type": "code",
   "execution_count": null,
   "metadata": {},
   "outputs": [],
   "source": [
    "#!/usr/bin/env python\n",
    "# coding: utf-8\n",
    "\n",
    "import mindwave, time\n",
    "from serial import Serial\n",
    "import csv\n",
    "\n",
    "headset = mindwave.Headset('/dev/tty.MindWaveMobile-SerialPo','01710007800B')\n",
    "\n",
    "time.sleep(2)\n",
    "\n",
    "headset.autoconnect()\n",
    "print(\"Connecting...\")\n",
    "\n",
    "atten_list = []\n",
    "med_list = []\n",
    "blink_list = []"
   ]
  },
  {
   "cell_type": "code",
   "execution_count": null,
   "metadata": {},
   "outputs": [],
   "source": [
    "while True:\n",
    "    #while headset.status == None:\n",
    "    time.sleep(0.05)\n",
    "    print(headset.status)\n",
    "    if headset.status == 'standby':\n",
    "        headset.connect()\n",
    "        print (\"Retrying connect...\")\n",
    "        \n",
    "    print(\"Connected.\")\n",
    "    \n",
    "    if headset.status == None:\n",
    "        print(\"Attention: %s, Meditation: %s, Eyeblink: %s \"% (headset.attention, headset.meditation, headset.blink))\n",
    "        atten_list.append(headset.attention)\n",
    "        med_list.append(headset.meditation)\n",
    "        blink_list.append(headset.blink)\n",
    "        \n",
    "        print(atten_list)\n",
    "        print(med_list)\n",
    "        print(blink_list)\n",
    "    \n",
    "        with open('EEG data', 'wb') as myfile:\n",
    "            wr = csv.writer(myfile, quoting=csv.QUOTE_ALL)\n",
    "            wr.writerow(atten_list)\n",
    "            wr.writerow(med_list)\n",
    "            wr.writerow(blink_list)"
   ]
  },
  {
   "cell_type": "code",
   "execution_count": null,
   "metadata": {},
   "outputs": [],
   "source": [
    "get_ipython().magic(u'pinfo headset')"
   ]
  },
  {
   "cell_type": "code",
   "execution_count": null,
   "metadata": {},
   "outputs": [],
   "source": []
  }
 ],
 "metadata": {
  "kernelspec": {
   "display_name": "Python 2",
   "language": "python",
   "name": "python2"
  }
 },
 "nbformat": 4,
 "nbformat_minor": 2
}
